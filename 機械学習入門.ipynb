{
  "nbformat": 4,
  "nbformat_minor": 0,
  "metadata": {
    "colab": {
      "name": "機械学習入門.ipynb",
      "private_outputs": true,
      "provenance": [],
      "authorship_tag": "ABX9TyPkROKtCgTfI4pH+EYDZ1lm",
      "include_colab_link": true
    },
    "kernelspec": {
      "name": "python3",
      "display_name": "Python 3"
    },
    "accelerator": "TPU"
  },
  "cells": [
    {
      "cell_type": "markdown",
      "metadata": {
        "id": "view-in-github",
        "colab_type": "text"
      },
      "source": [
        "<a href=\"https://colab.research.google.com/github/katoy/alpha/blob/main/%E6%A9%9F%E6%A2%B0%E5%AD%A6%E7%BF%92%E5%85%A5%E9%96%80.ipynb\" target=\"_parent\"><img src=\"https://colab.research.google.com/assets/colab-badge.svg\" alt=\"Open In Colab\"/></a>"
      ]
    },
    {
      "cell_type": "code",
      "metadata": {
        "id": "k-_LImSbZuKL"
      },
      "source": [
        "See https://note.com/mc_kurita/n/n2a7c8682d965\n",
        "機械学習やるならGoogle Colabが素晴らしかった話（Python実行環境）"
      ],
      "execution_count": null,
      "outputs": []
    },
    {
      "cell_type": "code",
      "metadata": {
        "id": "0GEoGtUAaJmc"
      },
      "source": [
        "import matplotlib.pyplot as plt\n",
        "from sklearn import cluster\n",
        "from sklearn import datasets\n",
        "\n",
        "# iris データセットをロード\n",
        "iris = datasets.load_iris()\n",
        "data = iris['data']\n",
        "\n",
        "# k-means モデルの作成\n",
        "# クラスタ数は 3 を指定\n",
        "model = cluster.KMeans(n_clusters=3)\n",
        "model.fit(data)\n",
        "\n",
        "# クラスタリング結果ラベルの取得\n",
        "labels = model.labels_\n",
        "\n",
        "# 以降、結果の描画\n",
        "# 1 番目のキャンバスを作成\n",
        "plt.figure(1)\n",
        "\n",
        "# ラベル 0 の描画色は緑色★\n",
        "ldata = data[labels == 0]\n",
        "plt.scatter(ldata[:, 2], ldata[:, 3], color='green')\n",
        "\n",
        "# ラベル 1 の描画色は赤色★\n",
        "ldata = data[labels == 1]\n",
        "plt.scatter(ldata[:, 2], ldata[:, 3], color='red')\n",
        "\n",
        "# ラベル 2 の描画色は青色★\n",
        "ldata = data[labels == 2]\n",
        "plt.scatter(ldata[:, 2], ldata[:, 3], color='blue')\n",
        "\n",
        "# x軸、y軸の設定\n",
        "plt.xlabel(iris['feature_names'][2])\n",
        "plt.ylabel(iris['feature_names'][3])\n",
        "plt.show()\n",
        "# 結果は下図の通り、3色のラベル散布図として描画されました。"
      ],
      "execution_count": null,
      "outputs": []
    }
  ]
}